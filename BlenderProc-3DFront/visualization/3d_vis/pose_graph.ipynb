{
 "cells": [
  {
   "cell_type": "code",
   "execution_count": 2,
   "metadata": {},
   "outputs": [
    {
     "name": "stdout",
     "output_type": "stream",
     "text": [
      "Jupyter environment detected. Enabling Open3D WebVisualizer.\n",
      "[Open3D INFO] WebRTC GUI backend enabled.\n",
      "[Open3D INFO] WebRTCWindowSystem: HTTP handshake server disabled.\n"
     ]
    },
    {
     "data": {
      "text/plain": [
       "'\\nload pose\\nbuild kdtree\\nfor each pose find nearest neighbor\\nget edge based on orientation as well\\n\\ncheck connected\\nsave graph\\n'"
      ]
     },
     "execution_count": 2,
     "metadata": {},
     "output_type": "execute_result"
    }
   ],
   "source": [
    "from sklearn.neighbors import KDTree\n",
    "import numpy as np\n",
    "import networkx as nx\n",
    "import quaternion as qt\n",
    "import open3d as o3d\n",
    "\"\"\"\n",
    "load pose\n",
    "build kdtree\n",
    "for each pose find nearest neighbor\n",
    "get edge based on orientation as well\n",
    "\n",
    "check connected\n",
    "save graph\n",
    "\"\"\""
   ]
  },
  {
   "cell_type": "code",
   "execution_count": 3,
   "metadata": {},
   "outputs": [
    {
     "data": {
      "text/plain": [
       "(1763, 4, 4)"
      ]
     },
     "execution_count": 3,
     "metadata": {},
     "output_type": "execute_result"
    }
   ],
   "source": [
    "pose_path = \"/media/hieu/T7/3d-front/poses_100_2/00ad8345-45e0-45b3-867d-4a3c88c2517a.npy\"\n",
    "\n",
    "pose = np.load(pose_path)\n",
    "pose[:,3,3] = 1\n",
    "pose.shape"
   ]
  },
  {
   "cell_type": "code",
   "execution_count": 4,
   "metadata": {},
   "outputs": [],
   "source": [
    "def make_edges(poses, distance, angle):\n",
    "    \"\"\"\n",
    "    2 pose is connected if they are within distance and angle\n",
    "    camera coordinate is x right, y up, z backward\n",
    "    \"\"\"\n",
    "    cosine_thr = np.cos(np.radians(angle))\n",
    "    # make graph based on distance only\n",
    "    kdtree = KDTree(poses[:, :3, 3], leaf_size=30, metric='euclidean')\n",
    "    \n",
    "    # forward direction of the pose\n",
    "    ## came forward is -z\n",
    "    cam_forward = np.array([0, 0, -1])\n",
    "    world_forward = np.einsum('nij, j->ni', poses[:, :3, :3], cam_forward)\n",
    "    \n",
    "    edges = set()\n",
    "    # select edge based angle\n",
    "    for i in range(poses.shape[0]-1):\n",
    "        # find nearest neighbor\n",
    "        neighbor_indices = kdtree.query_radius(poses[i:i+1, :3, 3], r=distance)[0]\n",
    "        # only need to check for index > i to reduce redundancy\n",
    "        neighbor_indices = neighbor_indices[neighbor_indices > i]\n",
    "        if not len(neighbor_indices):\n",
    "            continue\n",
    "        # check angle between forward direction\n",
    "        neighbor_directions = world_forward[neighbor_indices]\n",
    "        cosines = np.einsum('ni, i -> n', neighbor_directions, world_forward[i])\n",
    "        selected_indices = neighbor_indices[cosines >= cosine_thr]\n",
    "        for j in selected_indices:\n",
    "            edges.add((i, j))\n",
    "            edges.add((j, i))\n",
    "    return edges\n",
    "\n",
    "def make_graph(poses, edges):\n",
    "    G = nx.Graph()\n",
    "    for i, pose in enumerate(poses):\n",
    "        G.add_node(f\"{i:0>4}\", pose=pose)\n",
    "    for i,j in edges:\n",
    "        G.add_edge(f\"{i:0>4}\", f\"{j:0>4}\")\n",
    "    return G"
   ]
  },
  {
   "cell_type": "code",
   "execution_count": 5,
   "metadata": {},
   "outputs": [
    {
     "name": "stdout",
     "output_type": "stream",
     "text": [
      "8098\n"
     ]
    }
   ],
   "source": [
    "edges = make_edges(pose, 0.5, 60)\n",
    "print(len(edges))\n",
    "G = make_graph(pose, edges)\n"
   ]
  },
  {
   "cell_type": "code",
   "execution_count": 124,
   "metadata": {},
   "outputs": [],
   "source": [
    "nx.write_gpickle(G, \"graph.pkl\")\n",
    "GG = nx.read_gpickle(\"graph.pkl\")"
   ]
  },
  {
   "cell_type": "code",
   "execution_count": 126,
   "metadata": {},
   "outputs": [
    {
     "data": {
      "text/plain": [
       "(228, 228)"
      ]
     },
     "execution_count": 126,
     "metadata": {},
     "output_type": "execute_result"
    }
   ],
   "source": [
    "len(GG.edges), len(G.edges)"
   ]
  },
  {
   "cell_type": "code",
   "execution_count": 127,
   "metadata": {},
   "outputs": [
    {
     "data": {
      "text/plain": [
       "array([ 1.56168006,  1.36513442, -7.18073192])"
      ]
     },
     "execution_count": 127,
     "metadata": {},
     "output_type": "execute_result"
    }
   ],
   "source": [
    "GG.nodes[\"0000\"]['pose']"
   ]
  },
  {
   "cell_type": "code",
   "execution_count": 115,
   "metadata": {},
   "outputs": [
    {
     "data": {
      "text/plain": [
       "0.5385164807134505"
      ]
     },
     "execution_count": 115,
     "metadata": {},
     "output_type": "execute_result"
    }
   ],
   "source": [
    "(0.2**2+0.5**2)**0.5"
   ]
  },
  {
   "cell_type": "code",
   "execution_count": 116,
   "metadata": {},
   "outputs": [],
   "source": [
    "# visualize\n",
    "o3d_pcd = o3d.geometry.PointCloud()\n",
    "o3d_pcd.points = o3d.utility.Vector3dVector(pose[:, :3, 3])\n",
    "\n",
    "o3d_lines = o3d.geometry.LineSet()\n",
    "o3d_lines.points = o3d.utility.Vector3dVector(pose[:, :3, 3])\n",
    "lines = np.array(list(edges))\n",
    "o3d_lines.lines = o3d.utility.Vector2iVector(lines)\n",
    "\n",
    "# make camera\n",
    "K = np.array([[256.0, 0, 256], [0, 256, 256], [0, 0, 1]], dtype=np.float64)\n",
    "# K = o3d.camera.PinholeCameraIntrinsic(512, 512, 256, 256, 256, 256)\n",
    "cameras = []\n",
    "\n",
    "w2c = np.linalg.inv(pose.astype(np.float64))\n",
    "for p in w2c:\n",
    "    camera = o3d.geometry.LineSet.create_camera_visualization(\n",
    "        view_width_px=512, view_height_px=512, intrinsic=K, extrinsic=p, scale = 0.05\n",
    "    )\n",
    "    cameras.append(camera)\n",
    "\n",
    "o3d.visualization.draw_geometries([o3d_pcd, o3d_lines]+cameras)\n",
    "# o3d.visualization.draw_geometries(cameras)"
   ]
  },
  {
   "cell_type": "code",
   "execution_count": 6,
   "metadata": {},
   "outputs": [
    {
     "data": {
      "text/plain": [
       "False"
      ]
     },
     "execution_count": 6,
     "metadata": {},
     "output_type": "execute_result"
    }
   ],
   "source": [
    "# check if point is connected\n",
    "isolated_nodes = set(list(nx.isolates(G)))\n",
    "nodes = set(G.nodes) - isolated_nodes\n",
    "single = [node for node in nodes if G.degree(node) == 1]\n",
    "nodes = nodes - set(single)\n",
    "subgraph = G.subgraph(nodes)\n",
    "nx.is_connected(subgraph)"
   ]
  },
  {
   "cell_type": "code",
   "execution_count": 7,
   "metadata": {},
   "outputs": [],
   "source": [
    "def get_connected_subgraph(G:nx.Graph, n_nodes:int):\n",
    "    \"\"\"\n",
    "    get list of connected subgraphs with given size of a graph\n",
    "    args:\n",
    "        G: nx.Graph\n",
    "        n_nodes: size of subgraph\n",
    "    return list of connected subgraphs, each subgraph is a list of nodes\n",
    "    \"\"\"\n",
    "    \n",
    "    def recursive_local_expand(node_set, possible, excluded, results, max_size):\n",
    "        \"\"\"\n",
    "        expand the subgraph until reach the max size\n",
    "        using excluded to avoid permutation of the same subgraph\n",
    "        \"\"\"\n",
    "        if len(node_set) == max_size:\n",
    "            results.append(node_set)\n",
    "            return\n",
    "        for j in sorted(list(possible - excluded)):\n",
    "            new_node_set = node_set | {j}\n",
    "            excluded = excluded | {j}\n",
    "            new_possible = (possible | set(G.neighbors(j))) - excluded\n",
    "            recursive_local_expand(new_node_set, new_possible, excluded, results, max_size)\n",
    "    results = []\n",
    "    excluded = set()\n",
    "    nodes = list(G.nodes)\n",
    "    for node in nodes:\n",
    "        excluded.add(node)\n",
    "        recursive_local_expand({node}, set(G.neighbors(node))-excluded, excluded, results, n_nodes)\n",
    "    return results"
   ]
  },
  {
   "cell_type": "code",
   "execution_count": 14,
   "metadata": {},
   "outputs": [
    {
     "data": {
      "text/plain": [
       "1049174"
      ]
     },
     "execution_count": 14,
     "metadata": {},
     "output_type": "execute_result"
    }
   ],
   "source": [
    "subgraph = get_connected_subgraph(G, 6)\n",
    "len(subgraph)"
   ]
  },
  {
   "cell_type": "code",
   "execution_count": 15,
   "metadata": {},
   "outputs": [],
   "source": [
    "cc = [c for c in nx.connected_components(G)]"
   ]
  },
  {
   "cell_type": "code",
   "execution_count": 16,
   "metadata": {},
   "outputs": [
    {
     "data": {
      "text/plain": [
       "65"
      ]
     },
     "execution_count": 16,
     "metadata": {},
     "output_type": "execute_result"
    }
   ],
   "source": [
    "len(cc)"
   ]
  },
  {
   "cell_type": "code",
   "execution_count": 17,
   "metadata": {},
   "outputs": [
    {
     "data": {
      "text/plain": [
       "8"
      ]
     },
     "execution_count": 17,
     "metadata": {},
     "output_type": "execute_result"
    }
   ],
   "source": [
    "len([c for c in cc if len(c) >= 6])"
   ]
  },
  {
   "cell_type": "code",
   "execution_count": 19,
   "metadata": {},
   "outputs": [],
   "source": [
    "def recursive_expand(\n",
    "    G,\n",
    "    node_set,\n",
    "    possible,\n",
    "    excluded,\n",
    "    results,\n",
    "    max_size,\n",
    "    deterministic=True,\n",
    "    return_one=False,\n",
    "):\n",
    "    \"\"\"\n",
    "    expand the subgraph until reach the max size\n",
    "    using excluded to avoid permutation of the same subgraph\n",
    "    \"\"\"\n",
    "    if return_one and len(results) > 0:\n",
    "        return\n",
    "\n",
    "    if len(node_set) == max_size:\n",
    "        results.append(node_set)\n",
    "        return\n",
    "    candidates = sorted(list(possible - excluded))\n",
    "    if not deterministic:\n",
    "        permutation = np.random.permutation(len(candidates))\n",
    "        candidates = [candidates[i] for i in permutation]\n",
    "    for j in candidates:\n",
    "        new_node_set = node_set | {j}\n",
    "        excluded = excluded | {j}\n",
    "        new_possible = (possible | set(G.neighbors(j))) - excluded\n",
    "        recursive_expand(G, new_node_set, new_possible, excluded, results, max_size)"
   ]
  },
  {
   "cell_type": "code",
   "execution_count": 93,
   "metadata": {},
   "outputs": [],
   "source": [
    "total_frames = 6\n",
    "cc = [\n",
    "    c\n",
    "    for c in nx.connected_components(G)\n",
    "    if len(c) >= total_frames\n",
    "]\n",
    "nodes = sum([list(c) for c in cc], [])\n",
    "GG = G.subgraph(nodes).copy()"
   ]
  },
  {
   "cell_type": "code",
   "execution_count": 148,
   "metadata": {},
   "outputs": [
    {
     "name": "stdout",
     "output_type": "stream",
     "text": [
      "1044\n"
     ]
    },
    {
     "data": {
      "text/plain": [
       "['0883', '0884', '0907', '0940', '1002', '1044']"
      ]
     },
     "execution_count": 148,
     "metadata": {},
     "output_type": "execute_result"
    }
   ],
   "source": [
    "# sample subgraph\n",
    "\n",
    "\n",
    "\n",
    "start_node = sorted(list(GG.nodes))[1000]\n",
    "print(start_node)\n",
    "subgraphs = []\n",
    "exclude = {start_node}\n",
    "deterministic = False\n",
    "\n",
    "recursive_expand(\n",
    "    GG,\n",
    "    {start_node},\n",
    "    set(GG.neighbors(start_node)) - exclude,\n",
    "    exclude,\n",
    "    subgraphs,\n",
    "    total_frames,\n",
    "    deterministic,\n",
    "    return_one=True,\n",
    ")\n",
    "sorted(subgraphs[0])"
   ]
  },
  {
   "cell_type": "code",
   "execution_count": 119,
   "metadata": {},
   "outputs": [],
   "source": [
    "# viz image of edge "
   ]
  },
  {
   "cell_type": "markdown",
   "metadata": {},
   "source": [
    "# edges for location, panorama settings"
   ]
  },
  {
   "cell_type": "code",
   "execution_count": 117,
   "metadata": {},
   "outputs": [
    {
     "data": {
      "text/plain": [
       "(132, 3)"
      ]
     },
     "execution_count": 117,
     "metadata": {},
     "output_type": "execute_result"
    }
   ],
   "source": [
    "location_path = \"/media/hieu/T7/3dfront_render/locations_secondbedroom/6a0e73bc-d0c4-4a38-bfb6-e083ce05ebe9.npy\"\n",
    "location_path = \"/media/hieu/T7/3d-front/locations_100_7/00ad8345-45e0-45b3-867d-4a3c88c2517a.npy\"\n",
    "locations = np.load(location_path)\n",
    "locations.shape"
   ]
  },
  {
   "cell_type": "code",
   "execution_count": 123,
   "metadata": {},
   "outputs": [
    {
     "data": {
      "text/plain": [
       "1584"
      ]
     },
     "execution_count": 123,
     "metadata": {},
     "output_type": "execute_result"
    }
   ],
   "source": [
    "132*12"
   ]
  },
  {
   "cell_type": "code",
   "execution_count": 118,
   "metadata": {},
   "outputs": [
    {
     "data": {
      "text/plain": [
       "0.8602325267042626"
      ]
     },
     "execution_count": 118,
     "metadata": {},
     "output_type": "execute_result"
    }
   ],
   "source": [
    "(0.7**2+0.5**2)**0.5"
   ]
  },
  {
   "cell_type": "code",
   "execution_count": 119,
   "metadata": {},
   "outputs": [],
   "source": [
    "def make_edges_loc(locations, distance):\n",
    "    \"\"\"\n",
    "    2 location is connected if they are within distance\n",
    "    \"\"\"\n",
    "    # make graph based on distance only\n",
    "    kdtree = KDTree(locations, leaf_size=30, metric='euclidean')\n",
    "    \n",
    "    # forward direction of the pose\n",
    "    ## came forward is -z\n",
    "    # cam_forward = np.array([0, 0, -1])\n",
    "    # world_forward = np.einsum('nij, j->ni', poses[:, :3, :3], cam_forward)\n",
    "    \n",
    "    edges = set()\n",
    "    # select edge based angle\n",
    "    for i in range(locations.shape[0]-1):\n",
    "        # find nearest neighbor\n",
    "        neighbor_indices = kdtree.query_radius(locations[i:i+1], r=distance)[0]\n",
    "        # only need to check for index > i to reduce redundancy\n",
    "        neighbor_indices = neighbor_indices[neighbor_indices > i]\n",
    "        if not len(neighbor_indices):\n",
    "            continue\n",
    "        for j in neighbor_indices:\n",
    "            edges.add((i, j))\n",
    "            edges.add((j, i))\n",
    "    return edges"
   ]
  },
  {
   "cell_type": "code",
   "execution_count": 120,
   "metadata": {},
   "outputs": [
    {
     "name": "stdout",
     "output_type": "stream",
     "text": [
      "456\n"
     ]
    }
   ],
   "source": [
    "edges = make_edges_loc(locations, 1.0)\n",
    "print(len(edges))\n",
    "G = make_graph(locations, edges)"
   ]
  },
  {
   "cell_type": "code",
   "execution_count": 121,
   "metadata": {},
   "outputs": [],
   "source": [
    "def get_camera_poses(location: np.ndarray) -> np.ndarray:\n",
    "    \"\"\"\n",
    "    select poses from the given location\n",
    "\n",
    "    try 2 settings\n",
    "        12 views, 0 deg elevation\n",
    "        12 views, 6 look down 30 deg 6 look up 30 deg\n",
    "\n",
    "    NOTE: assume y is up\n",
    "    # cam coor in blender is x right, y up, z backward\n",
    "    \"\"\"\n",
    "    HEADINGS = np.arange(12) * 2 * np.pi / 12\n",
    "    # rotation for setting 1\n",
    "    ROTATIONS1 = qt.from_rotation_vector(HEADINGS[:, np.newaxis] * np.array([0, 1, 0]))\n",
    "    ROTATIONS1 = qt.as_rotation_matrix(ROTATIONS1)\n",
    "\n",
    "    poses = np.zeros((len(HEADINGS), 4, 4), dtype=np.float32)\n",
    "    poses[:, :3, :3] = ROTATIONS1\n",
    "    poses[:, :3, 3] += location\n",
    "    poses[:, 3, 3] = 1\n",
    "    return poses"
   ]
  },
  {
   "cell_type": "code",
   "execution_count": 122,
   "metadata": {},
   "outputs": [],
   "source": [
    "# visualize\n",
    "o3d_pcd = o3d.geometry.PointCloud()\n",
    "o3d_pcd.points = o3d.utility.Vector3dVector(locations)\n",
    "\n",
    "o3d_lines = o3d.geometry.LineSet()\n",
    "o3d_lines.points = o3d.utility.Vector3dVector(locations)\n",
    "lines = np.array(list(edges))\n",
    "o3d_lines.lines = o3d.utility.Vector2iVector(lines)\n",
    "\n",
    "# make camera\n",
    "K = np.array([[256.0, 0, 256], [0, 256, 256], [0, 0, 1]], dtype=np.float64)\n",
    "cameras = []\n",
    "\n",
    "for location in locations:\n",
    "    poses = get_camera_poses(location)\n",
    "    w2c = np.linalg.inv(poses.astype(np.float64))\n",
    "    for p in w2c:\n",
    "        camera = o3d.geometry.LineSet.create_camera_visualization(\n",
    "            view_width_px=512, view_height_px=512, intrinsic=K, extrinsic=p, scale = 0.05\n",
    "        )\n",
    "        cameras.append(camera)\n",
    "\n",
    "o3d.visualization.draw_geometries([o3d_pcd, o3d_lines]+cameras)\n",
    "# o3d.visualization.draw_geometries([o3d_pcd, o3d_lines])"
   ]
  },
  {
   "cell_type": "code",
   "execution_count": null,
   "metadata": {},
   "outputs": [],
   "source": []
  }
 ],
 "metadata": {
  "kernelspec": {
   "display_name": "blenderproc",
   "language": "python",
   "name": "python3"
  },
  "language_info": {
   "codemirror_mode": {
    "name": "ipython",
    "version": 3
   },
   "file_extension": ".py",
   "mimetype": "text/x-python",
   "name": "python",
   "nbconvert_exporter": "python",
   "pygments_lexer": "ipython3",
   "version": "3.8.17"
  }
 },
 "nbformat": 4,
 "nbformat_minor": 2
}
