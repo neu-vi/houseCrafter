{
 "cells": [
  {
   "cell_type": "code",
   "execution_count": 1,
   "metadata": {},
   "outputs": [],
   "source": [
    "import mathutils\n",
    "import numpy as np\n",
    "import quaternion as qt\n",
    "q = mathutils.Quaternion([0,0,0,1])"
   ]
  },
  {
   "cell_type": "code",
   "execution_count": 9,
   "metadata": {},
   "outputs": [
    {
     "data": {
      "text/plain": [
       "Matrix(((-1.0, 0.0, 0.0),\n",
       "        (0.0, -1.0, 0.0),\n",
       "        (0.0, 0.0, 1.0)))"
      ]
     },
     "execution_count": 9,
     "metadata": {},
     "output_type": "execute_result"
    }
   ],
   "source": [
    "q.to_matrix()"
   ]
  },
  {
   "cell_type": "code",
   "execution_count": 6,
   "metadata": {},
   "outputs": [
    {
     "data": {
      "text/plain": [
       "Matrix(((1.0, 0.0, 0.0, 0.0),\n",
       "        (0.0, -4.371138828673793e-08, 1.0, 0.0),\n",
       "        (0.0, -1.0, -4.371138828673793e-08, 0.0),\n",
       "        (0.0, 0.0, 0.0, 1.0)))"
      ]
     },
     "execution_count": 6,
     "metadata": {},
     "output_type": "execute_result"
    }
   ],
   "source": [
    "mathutils.Matrix.Rotation(np.radians(-90), 4, 'X').to_4x4()"
   ]
  },
  {
   "cell_type": "code",
   "execution_count": 30,
   "metadata": {},
   "outputs": [
    {
     "name": "stdout",
     "output_type": "stream",
     "text": [
      "[-0.          4.76663578 -0.        ]\n"
     ]
    },
    {
     "data": {
      "text/plain": [
       "array([[ 0.05421994, -0.        , -0.99852435],\n",
       "       [ 0.        ,  1.        , -0.        ],\n",
       "       [ 0.99852435,  0.        ,  0.05421994]])"
      ]
     },
     "execution_count": 30,
     "metadata": {},
     "output_type": "execute_result"
    }
   ],
   "source": [
    "def quaternion_to_matrix(args):\n",
    "    \"\"\"\n",
    "    Quaternion to matrix\n",
    "    :param args:\n",
    "    :return:\n",
    "    \"\"\"\n",
    "    tx = args[0] + args[0]\n",
    "    ty = args[1] + args[1]\n",
    "    tz = args[2] + args[2]\n",
    "    twx = tx * args[3]\n",
    "    twy = ty * args[3]\n",
    "    twz = tz * args[3]\n",
    "    txx = tx * args[0]\n",
    "    txy = ty * args[0]\n",
    "    txz = tz * args[0]\n",
    "    tyy = ty * args[1]\n",
    "    tyz = tz * args[1]\n",
    "    tzz = tz * args[2]\n",
    "\n",
    "    result = np.zeros((3, 3))\n",
    "    result[0, 0] = 1.0 - (tyy + tzz)\n",
    "    result[0, 1] = txy - twz\n",
    "    result[0, 2] = txz + twy\n",
    "    result[1, 0] = txy + twz\n",
    "    result[1, 1] = 1.0 - (txx + tzz)\n",
    "    result[1, 2] = tyz - twx\n",
    "    result[2, 0] = txz - twy\n",
    "    result[2, 1] = tyz + twx\n",
    "    result[2, 2] = 1.0 - (txx + tyy)\n",
    "    return result\n",
    "a2 = quaternion_to_matrix([\n",
    "                            0,\n",
    "                            -0.68767,\n",
    "                            0,\n",
    "                            0.72602\n",
    "                        ])\n",
    "aa2 = qt.from_rotation_matrix(np.array(a2))\n",
    "v2 = qt.as_rotation_vector(aa2)\n",
    "print(v2)\n",
    "# np.degrees(np.linalg.norm(v2)), v2\n",
    "a2"
   ]
  },
  {
   "cell_type": "code",
   "execution_count": 42,
   "metadata": {},
   "outputs": [
    {
     "name": "stdout",
     "output_type": "stream",
     "text": [
      "[-3.14159265  1.57078293  0.        ]\n"
     ]
    },
    {
     "data": {
      "text/plain": [
       "(array([3.14159265, 0.78539146, 0.        ]),\n",
       " array([-3.14159265,  0.78539146,  3.14159265]))"
      ]
     },
     "execution_count": 42,
     "metadata": {},
     "output_type": "execute_result"
    }
   ],
   "source": [
    "a1 = qt.from_float_array([\n",
    "                            0,\n",
    "                            -0.38268,\n",
    "                            0,\n",
    "                            0.92388\n",
    "                        ])\n",
    "\n",
    "a3 = qt.from_float_array([\n",
    "                            0.92388,\n",
    "                            0,\n",
    "                            -0.38268,\n",
    "                            0,\n",
    "                        ])\n",
    "b = qt.as_rotation_matrix(a3)@np.linalg.inv(qt.as_rotation_matrix(a1))\n",
    "bb = qt.as_euler_angles(qt.from_rotation_matrix(b))\n",
    "print(bb)\n",
    "# np.degrees(np.linalg.norm(qt.as_rotation_vector(a1))), qt.as_rotation_vector(a1)\n",
    "v1 = qt.as_euler_angles(a1)\n",
    "v3 = qt.as_euler_angles(a3)\n",
    "v1, v3"
   ]
  },
  {
   "cell_type": "code",
   "execution_count": 40,
   "metadata": {},
   "outputs": [
    {
     "data": {
      "text/plain": [
       "44.99961592361782"
      ]
     },
     "execution_count": 40,
     "metadata": {},
     "output_type": "execute_result"
    }
   ],
   "source": [
    "np.degrees(0.78539146)"
   ]
  },
  {
   "cell_type": "code",
   "execution_count": 7,
   "metadata": {},
   "outputs": [
    {
     "data": {
      "text/plain": [
       "0.5000045521"
      ]
     },
     "execution_count": 7,
     "metadata": {},
     "output_type": "execute_result"
    }
   ],
   "source": [
    "0.70711**2"
   ]
  },
  {
   "cell_type": "code",
   "execution_count": 2,
   "metadata": {},
   "outputs": [
    {
     "data": {
      "text/plain": [
       "True"
      ]
     },
     "execution_count": 2,
     "metadata": {},
     "output_type": "execute_result"
    }
   ],
   "source": [
    "import quaternion as qt\n",
    "import numpy as np\n",
    "q1 = qt.from_float_array(np.random.rand(4))\n",
    "q2 = qt.from_float_array(np.random.rand(4))\n",
    "m = qt.as_rotation_matrix(q1)@qt.as_rotation_matrix(q2)\n",
    "mm = qt.as_rotation_matrix(q1*q2)\n",
    "np.allclose(m, mm)"
   ]
  },
  {
   "cell_type": "code",
   "execution_count": 3,
   "metadata": {},
   "outputs": [
    {
     "data": {
      "text/plain": [
       "True"
      ]
     },
     "execution_count": 3,
     "metadata": {},
     "output_type": "execute_result"
    }
   ],
   "source": [
    "isinstance(q1, qt.quaternion)"
   ]
  },
  {
   "cell_type": "code",
   "execution_count": 3,
   "metadata": {},
   "outputs": [
    {
     "data": {
      "text/plain": [
       "array([[0.29870781, 0.5951164 , 0.68839697],\n",
       "       [0.08363247, 0.58214505, 0.24320607],\n",
       "       [0.52976365, 0.38983003, 0.60057723]])"
      ]
     },
     "execution_count": 3,
     "metadata": {},
     "output_type": "execute_result"
    }
   ],
   "source": [
    "a = np.random.rand(3,3)\n",
    "a"
   ]
  },
  {
   "cell_type": "code",
   "execution_count": 5,
   "metadata": {},
   "outputs": [
    {
     "data": {
      "text/plain": [
       "array([[0.29870781, 0.68839697],\n",
       "       [0.52976365, 0.60057723]])"
      ]
     },
     "execution_count": 5,
     "metadata": {},
     "output_type": "execute_result"
    }
   ],
   "source": [
    "a[:, [0,2]][[0,2]]"
   ]
  },
  {
   "cell_type": "code",
   "execution_count": 6,
   "metadata": {},
   "outputs": [
    {
     "data": {
      "text/plain": [
       "False"
      ]
     },
     "execution_count": 6,
     "metadata": {},
     "output_type": "execute_result"
    }
   ],
   "source": [
    "import os \n",
    "model_dir = \"/mnt/DATA/personal_projects/BlenderProc-3DFront/examples/datasets/front_3d_with_improved_mat/3D-FUTURE-model\"\n",
    "files = os.listdir(model_dir)\n",
    "\n",
    "\"3120\" in files"
   ]
  },
  {
   "cell_type": "code",
   "execution_count": 8,
   "metadata": {},
   "outputs": [
    {
     "data": {
      "text/plain": [
       "['fffb8ded-1810-4ac5-bedb-e60444fa4b13',\n",
       " 'fffd4028-7f01-46c7-96d2-36c3f51b5ba6',\n",
       " 'ffffcd6c-aadd-44b4-9281-e388fad3c7cc',\n",
       " 'model_info.json',\n",
       " 'model_info_revised.json']"
      ]
     },
     "execution_count": 8,
     "metadata": {},
     "output_type": "execute_result"
    }
   ],
   "source": [
    "files = sorted(files)\n",
    "files[-5:]"
   ]
  },
  {
   "cell_type": "code",
   "execution_count": null,
   "metadata": {},
   "outputs": [],
   "source": [
    "data "
   ]
  }
 ],
 "metadata": {
  "kernelspec": {
   "display_name": "blenderproc",
   "language": "python",
   "name": "python3"
  },
  "language_info": {
   "codemirror_mode": {
    "name": "ipython",
    "version": 3
   },
   "file_extension": ".py",
   "mimetype": "text/x-python",
   "name": "python",
   "nbconvert_exporter": "python",
   "pygments_lexer": "ipython3",
   "version": "3.8.17"
  }
 },
 "nbformat": 4,
 "nbformat_minor": 2
}
