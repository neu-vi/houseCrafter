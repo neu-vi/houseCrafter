{
 "cells": [
  {
   "cell_type": "code",
   "execution_count": 2,
   "metadata": {},
   "outputs": [],
   "source": [
    "import lmdb\n",
    "import os\n",
    "import matplotlib.pyplot as plt\n",
    "import numpy as np\n",
    "import zlib\n",
    "def show_img(img):\n",
    "    plt.close()\n",
    "    plt.figure(figsize=(7,7))\n",
    "    plt.imshow(img)\n",
    "    plt.show()"
   ]
  },
  {
   "cell_type": "code",
   "execution_count": null,
   "metadata": {},
   "outputs": [],
   "source": [
    "\"\"\"\n",
    "key format:\n",
    "# first part is position index the second is orientation index \n",
    "each frame has 3 keys:\n",
    "    0000_01_rgb    : 512,512,3 dtype uint8\n",
    "    0000_01_depth  : 512,512 dtype uint16 depth in mm zero means no depth\n",
    "    0000_01_pose   : 4x4 float32 c2w matrix\n",
    "\"\"\""
   ]
  },
  {
   "cell_type": "code",
   "execution_count": 3,
   "metadata": {},
   "outputs": [],
   "source": [
    "folder = \"/work/vig/hieu/3dfront_data/images_renderings\"\n",
    "scene_id = \"6a0e73bc-d0c4-4a38-bfb6-e083ce05ebe9\"\n",
    "env = lmdb.open(\n",
    "    os.path.join(folder, scene_id),\n",
    "    readonly=True,\n",
    "    lock=False,\n",
    "    readahead=False,\n",
    "    meminit=False,\n",
    ")\n",
    "with env.begin() as txn:\n",
    "    exist_keys = list(txn.cursor().iternext(values=False))\n",
    "    exist_keys = [key.decode().split('_')[0] for key in exist_keys]"
   ]
  },
  {
   "cell_type": "code",
   "execution_count": null,
   "metadata": {},
   "outputs": [],
   "source": [
    "len(set(exist_keys))"
   ]
  },
  {
   "cell_type": "code",
   "execution_count": null,
   "metadata": {},
   "outputs": [],
   "source": [
    "for i in range(12):\n",
    "    key = f\"0002_{i:0>2}_rgb\".encode(\"ascii\")\n",
    "    txn = env.begin()\n",
    "    img = zlib.decompress(txn.get(key))\n",
    "    img = np.frombuffer(img, dtype=np.uint8).reshape(512, 512, 3)\n",
    "    show_img(img)"
   ]
  },
  {
   "cell_type": "code",
   "execution_count": null,
   "metadata": {},
   "outputs": [],
   "source": [
    "for i in range(12):\n",
    "    key = f\"0000_{i:0>2}_depth\".encode(\"ascii\")\n",
    "    txn = env.begin()\n",
    "    depth = zlib.decompress(txn.get(key))\n",
    "    depth = np.frombuffer(depth, dtype=np.uint16).reshape(512, 512)\n",
    "    show_img(depth)"
   ]
  },
  {
   "cell_type": "code",
   "execution_count": 4,
   "metadata": {},
   "outputs": [
    {
     "data": {
      "text/plain": [
       "array([[ 1.       ,  0.       ,  0.       , -1.1162988],\n",
       "       [ 0.       ,  1.       ,  0.       ,  1.5184809],\n",
       "       [ 0.       ,  0.       ,  1.       , -0.6253474],\n",
       "       [ 0.       ,  0.       ,  0.       ,  1.       ]], dtype=float32)"
      ]
     },
     "execution_count": 4,
     "metadata": {},
     "output_type": "execute_result"
    }
   ],
   "source": [
    "i = 0\n",
    "key = f\"0000_{i:0>2}_pose\".encode(\"ascii\")\n",
    "txn = env.begin()\n",
    "pose = zlib.decompress(txn.get(key))\n",
    "pose = np.frombuffer(pose, dtype=np.float32).reshape(4, 4)\n",
    "pose"
   ]
  },
  {
   "cell_type": "code",
   "execution_count": 9,
   "metadata": {},
   "outputs": [
    {
     "data": {
      "text/plain": [
       "(7332, 487, 143861, 99)"
      ]
     },
     "execution_count": 9,
     "metadata": {},
     "output_type": "execute_result"
    }
   ],
   "source": [
    "import numpy as np\n",
    "import os\n",
    "\n",
    "path  = \"/media/hieu/T7/3d-front/locations_100/\"\n",
    "# path  = \"/media/hieu/T7/3d-front/locations_100_7/\"\n",
    "path  = \"/media/hieu/T7/3d-front/poses_100/\"\n",
    "path  = \"/media/hieu/T7/3d-front/poses_100_2/\"\n",
    "files = os.listdir(path)\n",
    "files = [f for f in files if f.endswith(\".npy\")]\n",
    "count = []\n",
    "for x in files:\n",
    "    data = np.load(os.path.join(path, x))\n",
    "    count.append(data.shape[0])\n",
    "max(count), min(count), sum(count), len(count)"
   ]
  },
  {
   "cell_type": "code",
   "execution_count": 8,
   "metadata": {},
   "outputs": [
    {
     "data": {
      "text/plain": [
       "12.249999999999996"
      ]
     },
     "execution_count": 8,
     "metadata": {},
     "output_type": "execute_result"
    }
   ],
   "source": [
    "(0.7/0.2)**2"
   ]
  },
  {
   "cell_type": "code",
   "execution_count": 1,
   "metadata": {},
   "outputs": [
    {
     "data": {
      "text/plain": [
       "(2, 3, 3)"
      ]
     },
     "execution_count": 1,
     "metadata": {},
     "output_type": "execute_result"
    }
   ],
   "source": [
    "import numpy as np\n",
    "\n",
    "a = np.arange(24).reshape(2,3,4)\n",
    "b = np.arange(36).reshape(3,3,4)\n",
    "c = np.einsum('nmd,mbd->nmb', a, b)\n",
    "c.shape"
   ]
  },
  {
   "cell_type": "code",
   "execution_count": 2,
   "metadata": {},
   "outputs": [
    {
     "data": {
      "text/plain": [
       "(array([[[ 0,  1,  2,  3],\n",
       "         [ 4,  5,  6,  7],\n",
       "         [ 8,  9, 10, 11]],\n",
       " \n",
       "        [[12, 13, 14, 15],\n",
       "         [16, 17, 18, 19],\n",
       "         [20, 21, 22, 23]]]),\n",
       " array([[[ 0,  1,  2,  3],\n",
       "         [ 4,  5,  6,  7],\n",
       "         [ 8,  9, 10, 11]],\n",
       " \n",
       "        [[12, 13, 14, 15],\n",
       "         [16, 17, 18, 19],\n",
       "         [20, 21, 22, 23]],\n",
       " \n",
       "        [[24, 25, 26, 27],\n",
       "         [28, 29, 30, 31],\n",
       "         [32, 33, 34, 35]]]),\n",
       " array([[[  14,   38,   62],\n",
       "         [ 302,  390,  478],\n",
       "         [ 974, 1126, 1278]],\n",
       " \n",
       "        [[  86,  302,  518],\n",
       "         [ 950, 1230, 1510],\n",
       "         [2198, 2542, 2886]]]))"
      ]
     },
     "execution_count": 2,
     "metadata": {},
     "output_type": "execute_result"
    }
   ],
   "source": [
    "a,b,c"
   ]
  },
  {
   "cell_type": "code",
   "execution_count": 3,
   "metadata": {},
   "outputs": [
    {
     "data": {
      "text/plain": [
       "1.7320508075688772"
      ]
     },
     "execution_count": 3,
     "metadata": {},
     "output_type": "execute_result"
    }
   ],
   "source": [
    "3**0.5"
   ]
  },
  {
   "cell_type": "code",
   "execution_count": null,
   "metadata": {},
   "outputs": [],
   "source": []
  }
 ],
 "metadata": {
  "kernelspec": {
   "display_name": "blenderproc",
   "language": "python",
   "name": "python3"
  },
  "language_info": {
   "codemirror_mode": {
    "name": "ipython",
    "version": 3
   },
   "file_extension": ".py",
   "mimetype": "text/x-python",
   "name": "python",
   "nbconvert_exporter": "python",
   "pygments_lexer": "ipython3",
   "version": "3.9.18"
  }
 },
 "nbformat": 4,
 "nbformat_minor": 2
}
